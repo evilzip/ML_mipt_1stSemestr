{
 "cells": [
  {
   "cell_type": "markdown",
   "id": "60095f37-2e7d-4945-b31b-62a9182a9edb",
   "metadata": {},
   "source": [
    "1.\tСоздайте Python-ноутбук, загрузите в него данные из csv-файла и преобразуйте в массив NumPy. Либо сгенерируйте массив самостоятельно.\n",
    "\n",
    "2.\tПолучите атрибуты массива — число измерений, размеры массива, количество элементов, тип данных элементов.\n",
    "\n",
    "3.\tПотренируйтесь в выборке элемента по индексу и выполнении срезов данных массива.\n",
    "\n",
    "4.\tПотренируйтесь в выполнении математических и статистических функций библиотеки NumPy — найдите сумму элементов, \n",
    "среднее значение, \n",
    "медиану, \n",
    "отклонение от среднего \n",
    "и другие показатели, которые считаете полезными при анализе исходного массива.\n",
    "\n",
    "По каждому пункту задания сделайте выводы и отразите их в созданном Python-ноутбуке. \n",
    "В качестве решения задания прикрепите ссылку на свой ноутбук."
   ]
  },
  {
   "cell_type": "code",
   "execution_count": 1,
   "id": "d9b71621-27cd-483a-aa5f-46b7b62dba8c",
   "metadata": {},
   "outputs": [],
   "source": [
    "import numpy as np"
   ]
  },
  {
   "cell_type": "code",
   "execution_count": 2,
   "id": "6104372e-d237-4491-8278-59aa1be83f10",
   "metadata": {},
   "outputs": [],
   "source": [
    "a = np.random.rand(100)"
   ]
  },
  {
   "cell_type": "code",
   "execution_count": 3,
   "id": "83804fc8-53a0-4eb8-9bc5-b61e25f41767",
   "metadata": {},
   "outputs": [
    {
     "data": {
      "text/plain": [
       "array([0.98770438, 0.32864913, 0.07566293, 0.93373137, 0.24367623,\n",
       "       0.30366934, 0.46934996, 0.00964091, 0.08241592, 0.18354398,\n",
       "       0.26596158, 0.70015879, 0.44750578, 0.48272466, 0.1367687 ,\n",
       "       0.5673943 , 0.18715807, 0.90027939, 0.50258271, 0.34076143,\n",
       "       0.82268335, 0.48532914, 0.87880408, 0.27607627, 0.75173948,\n",
       "       0.86218507, 0.80334189, 0.70809511, 0.93132702, 0.08509083,\n",
       "       0.82128621, 0.82231538, 0.21596522, 0.09124471, 0.41701963,\n",
       "       0.3865213 , 0.59710678, 0.70063792, 0.6062286 , 0.64011651,\n",
       "       0.36351807, 0.63011871, 0.53596359, 0.98349825, 0.37088138,\n",
       "       0.49129219, 0.85700932, 0.81860875, 0.80096278, 0.29397598,\n",
       "       0.24517108, 0.39887015, 0.72072185, 0.97597163, 0.99832126,\n",
       "       0.52751893, 0.81980414, 0.26400915, 0.96283808, 0.60310455,\n",
       "       0.35692709, 0.05913493, 0.4971509 , 0.50032545, 0.24117157,\n",
       "       0.74925606, 0.31918691, 0.47208783, 0.9687547 , 0.824368  ,\n",
       "       0.44456107, 0.57295308, 0.94049347, 0.95409569, 0.93365725,\n",
       "       0.34398279, 0.35768346, 0.73454221, 0.66605944, 0.82070444,\n",
       "       0.49875833, 0.58252781, 0.23379417, 0.33988632, 0.37217036,\n",
       "       0.68752931, 0.1260076 , 0.40086   , 0.63407402, 0.44287502,\n",
       "       0.12893171, 0.17191316, 0.30376839, 0.38073014, 0.43396667,\n",
       "       0.83133372, 0.53313319, 0.4878115 , 0.91866516, 0.44489528])"
      ]
     },
     "execution_count": 3,
     "metadata": {},
     "output_type": "execute_result"
    }
   ],
   "source": [
    "a"
   ]
  },
  {
   "cell_type": "code",
   "execution_count": 4,
   "id": "3267cfdd-8b5d-4d58-9139-bce91b7e2575",
   "metadata": {},
   "outputs": [
    {
     "name": "stdout",
     "output_type": "stream",
     "text": [
      "(100,) float64 100 1\n"
     ]
    }
   ],
   "source": [
    "print(a.shape, a.dtype, len(a), a.ndim)"
   ]
  },
  {
   "cell_type": "code",
   "execution_count": 5,
   "id": "ff633bc2-c38d-42fc-83f8-68da42fb8f03",
   "metadata": {},
   "outputs": [
    {
     "data": {
      "text/plain": [
       "0.9877043775473764"
      ]
     },
     "execution_count": 5,
     "metadata": {},
     "output_type": "execute_result"
    }
   ],
   "source": [
    "a[0]"
   ]
  },
  {
   "cell_type": "code",
   "execution_count": 6,
   "id": "81335292-3442-4281-860a-adace6829488",
   "metadata": {},
   "outputs": [
    {
     "data": {
      "text/plain": [
       "0.444895276779795"
      ]
     },
     "execution_count": 6,
     "metadata": {},
     "output_type": "execute_result"
    }
   ],
   "source": [
    "a[99]"
   ]
  },
  {
   "cell_type": "code",
   "execution_count": 7,
   "id": "371fa396-4545-445f-b47c-de6f52100279",
   "metadata": {},
   "outputs": [
    {
     "data": {
      "text/plain": [
       "0.444895276779795"
      ]
     },
     "execution_count": 7,
     "metadata": {},
     "output_type": "execute_result"
    }
   ],
   "source": [
    "a[-1]"
   ]
  },
  {
   "cell_type": "code",
   "execution_count": 9,
   "id": "08949b6a-1881-4c80-8d31-048f92fc83cc",
   "metadata": {},
   "outputs": [
    {
     "data": {
      "text/plain": [
       "0.5342534212981014"
      ]
     },
     "execution_count": 9,
     "metadata": {},
     "output_type": "execute_result"
    }
   ],
   "source": [
    "np.mean(a)"
   ]
  },
  {
   "cell_type": "code",
   "execution_count": 10,
   "id": "1aa06c56-c280-4538-bca0-4d89ab0658e7",
   "metadata": {},
   "outputs": [
    {
     "data": {
      "text/plain": [
       "53.42534212981013"
      ]
     },
     "execution_count": 10,
     "metadata": {},
     "output_type": "execute_result"
    }
   ],
   "source": [
    "np.sum(a)"
   ]
  },
  {
   "cell_type": "code",
   "execution_count": 11,
   "id": "4955653d-c640-4120-bce2-95c8ba050ca2",
   "metadata": {},
   "outputs": [
    {
     "data": {
      "text/plain": [
       "0.497954611610298"
      ]
     },
     "execution_count": 11,
     "metadata": {},
     "output_type": "execute_result"
    }
   ],
   "source": [
    "np.median(a)"
   ]
  },
  {
   "cell_type": "code",
   "execution_count": 12,
   "id": "620dc02f-c5a0-4665-9169-a52ee8045d63",
   "metadata": {},
   "outputs": [
    {
     "data": {
      "text/plain": [
       "0.07275655862264704"
      ]
     },
     "execution_count": 12,
     "metadata": {},
     "output_type": "execute_result"
    }
   ],
   "source": [
    "np.var(a)"
   ]
  },
  {
   "cell_type": "code",
   "execution_count": 13,
   "id": "9a97f88d-ff81-45b4-b2b4-0c09a873926e",
   "metadata": {},
   "outputs": [
    {
     "data": {
      "text/plain": [
       "0.26973423702349514"
      ]
     },
     "execution_count": 13,
     "metadata": {},
     "output_type": "execute_result"
    }
   ],
   "source": [
    "np.std(a)"
   ]
  },
  {
   "cell_type": "code",
   "execution_count": null,
   "id": "6985b99c-d120-469b-b51c-8d842de8af40",
   "metadata": {},
   "outputs": [],
   "source": []
  }
 ],
 "metadata": {
  "kernelspec": {
   "display_name": "Python 3 (ipykernel)",
   "language": "python",
   "name": "python3"
  },
  "language_info": {
   "codemirror_mode": {
    "name": "ipython",
    "version": 3
   },
   "file_extension": ".py",
   "mimetype": "text/x-python",
   "name": "python",
   "nbconvert_exporter": "python",
   "pygments_lexer": "ipython3",
   "version": "3.11.2"
  }
 },
 "nbformat": 4,
 "nbformat_minor": 5
}
